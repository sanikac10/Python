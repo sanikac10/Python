{
  "cells": [
    {
      "cell_type": "markdown",
      "metadata": {
        "id": "view-in-github",
        "colab_type": "text"
      },
      "source": [
        "<a href=\"https://colab.research.google.com/github/sanikac10/Python/blob/main/Data_Analysis_in_Python.ipynb\" target=\"_parent\"><img src=\"https://colab.research.google.com/assets/colab-badge.svg\" alt=\"Open In Colab\"/></a>"
      ]
    },
    {
      "cell_type": "markdown",
      "source": [
        "BI ASSIGNMENET 4\n",
        "SANIKA CHAVAN\n",
        "19101A0053"
      ],
      "metadata": {
        "id": "0A6SS8mW8RYr"
      }
    },
    {
      "cell_type": "code",
      "execution_count": null,
      "metadata": {
        "colab": {
          "base_uri": "https://localhost:8080/"
        },
        "id": "tvQMtrex0P9b",
        "outputId": "e327a12e-3979-47a4-f716-08abae2c4f44"
      },
      "outputs": [
        {
          "name": "stdout",
          "output_type": "stream",
          "text": [
            "30.346153846153847\n"
          ]
        }
      ],
      "source": [
        "import numpy\n",
        "\n",
        "data = [13, 15, 16, 16, 19, 20, 21, 22, 22, 25, 25, 25, 25, 30, 33, 33, 35, 35, 35, 35, 36, 40, 45, 46, 52, 70]\n",
        "\n",
        "x = numpy.mean(data)\n",
        "\n",
        "print(x)"
      ]
    },
    {
      "cell_type": "code",
      "execution_count": null,
      "metadata": {
        "colab": {
          "base_uri": "https://localhost:8080/"
        },
        "id": "_VCO6nv00uXx",
        "outputId": "54ec563b-c8e3-4411-ac3a-34ace3355be3"
      },
      "outputs": [
        {
          "name": "stdout",
          "output_type": "stream",
          "text": [
            "27.5\n"
          ]
        }
      ],
      "source": [
        "y = numpy.median(data)\n",
        "print(y)"
      ]
    },
    {
      "cell_type": "code",
      "execution_count": null,
      "metadata": {
        "colab": {
          "base_uri": "https://localhost:8080/"
        },
        "id": "h2kXvqoA00Tc",
        "outputId": "b06d0f66-b0cd-4b13-fe6c-6c0ca7a1a7cb"
      },
      "outputs": [
        {
          "name": "stdout",
          "output_type": "stream",
          "text": [
            "ModeResult(mode=array([25]), count=array([4]))\n"
          ]
        }
      ],
      "source": [
        "from scipy import stats\n",
        "z = stats.mode(data)\n",
        "print(z)"
      ]
    },
    {
      "cell_type": "code",
      "execution_count": null,
      "metadata": {
        "id": "_Sc_ARoV1ISO"
      },
      "outputs": [],
      "source": [
        "def variance(dataset):\n",
        "  n= len(dataset)\n",
        "  mean = sum(dataset)/n\n",
        "  deviations = [(x - mean) ** 2 for x in dataset]\n",
        "  variance = sum(deviations) / n\n",
        "  return variance\n"
      ]
    },
    {
      "cell_type": "code",
      "execution_count": null,
      "metadata": {
        "colab": {
          "base_uri": "https://localhost:8080/"
        },
        "id": "FKmv_Ubn3Vi6",
        "outputId": "8669fd68-21a8-44c5-83cc-67af07b50afb"
      },
      "outputs": [
        {
          "data": {
            "text/plain": [
              "163.534023668639"
            ]
          },
          "execution_count": 12,
          "metadata": {},
          "output_type": "execute_result"
        }
      ],
      "source": [
        "variance([13, 15, 16, 16, 19, 20, 21, 22, 22, 25, 25, 25, 25, 30, 33, 33, 35, 35, 35, 35, 36, 40, 45, 46, 52, 70])"
      ]
    },
    {
      "cell_type": "code",
      "execution_count": null,
      "metadata": {
        "colab": {
          "base_uri": "https://localhost:8080/"
        },
        "id": "fgQjU99B3fn0",
        "outputId": "5fa1fcd5-6ae2-4926-c941-621e1be276b4"
      },
      "outputs": [
        {
          "data": {
            "text/plain": [
              "163.534023668639"
            ]
          },
          "execution_count": 13,
          "metadata": {},
          "output_type": "execute_result"
        }
      ],
      "source": [
        "variance(data)"
      ]
    },
    {
      "cell_type": "code",
      "execution_count": null,
      "metadata": {
        "colab": {
          "base_uri": "https://localhost:8080/"
        },
        "id": "wIaWX0ws3mdG",
        "outputId": "35a58d09-cc4b-4249-c08b-b6499109fac0"
      },
      "outputs": [
        {
          "data": {
            "text/plain": [
              "163.53402366863904"
            ]
          },
          "execution_count": 15,
          "metadata": {},
          "output_type": "execute_result"
        }
      ],
      "source": [
        "import statistics\n",
        "statistics.pvariance(data)\n"
      ]
    },
    {
      "cell_type": "code",
      "execution_count": null,
      "metadata": {
        "colab": {
          "base_uri": "https://localhost:8080/"
        },
        "id": "ezlUa_nZ4Dp1",
        "outputId": "b33b9149-f53b-4730-a9f6-6da7a56c6682"
      },
      "outputs": [
        {
          "data": {
            "text/plain": [
              "12.788042214062285"
            ]
          },
          "execution_count": 16,
          "metadata": {},
          "output_type": "execute_result"
        }
      ],
      "source": [
        "statistics.pstdev(data)"
      ]
    },
    {
      "cell_type": "code",
      "execution_count": null,
      "metadata": {
        "colab": {
          "base_uri": "https://localhost:8080/"
        },
        "id": "GwU3ghY94bfr",
        "outputId": "15457b91-8d48-458b-b0cc-7c1407859231"
      },
      "outputs": [
        {
          "data": {
            "text/plain": [
              "13.041295358030375"
            ]
          },
          "execution_count": 17,
          "metadata": {},
          "output_type": "execute_result"
        }
      ],
      "source": [
        "statistics.stdev(data)"
      ]
    },
    {
      "cell_type": "code",
      "execution_count": null,
      "metadata": {
        "colab": {
          "base_uri": "https://localhost:8080/"
        },
        "id": "xcRoXf0f4tzW",
        "outputId": "d1e0353e-e3bf-4306-e6d9-a23262759820"
      },
      "outputs": [
        {
          "output_type": "stream",
          "name": "stdout",
          "text": [
            "Q1: 21.250\n",
            "Median: 27.500\n",
            "Q3: 35.000\n"
          ]
        }
      ],
      "source": [
        "from numpy import percentile\n",
        "from numpy import minimum\n",
        "from numpy import maximum\n",
        "data = [13, 15, 16, 16, 19, 20, 21, 22, 22, 25, 25, 25, 25, 30, 33, 33, 35, 35, 35, 35, 36, 40, 45, 46, 52, 70]\n",
        "quartiles = percentile(data, [25, 50, 75])\n",
        "\n",
        "print('Q1: %.3f' % quartiles[0])\n",
        "print('Median: %.3f' % quartiles[1])\n",
        "print('Q3: %.3f' % quartiles[2])\n"
      ]
    },
    {
      "cell_type": "code",
      "execution_count": null,
      "metadata": {
        "id": "GuqiNy286Bd3",
        "colab": {
          "base_uri": "https://localhost:8080/",
          "height": 428
        },
        "outputId": "e1be4624-74c1-49be-eb75-5a580aea5468"
      },
      "outputs": [
        {
          "output_type": "display_data",
          "data": {
            "image/png": "[encoded data removed]",
            "text/plain": [
              "<Figure size 720x504 with 1 Axes>"
            ]
          },
          "metadata": {
            "needs_background": "light"
          }
        }
      ],
      "source": [
        "from matplotlib import pyplot as plt\n",
        "import numpy as np\n",
        " \n",
        "a = np.array([13, 15, 16, 16, 19, 20, 21, 22, 22, 25, 25, 25, 25, 30, 33, 33, 35, 35, 35, 35, 36, 40, 45, 46, 52, 70])\n",
        " \n",
        "fig, ax = plt.subplots(figsize =(10, 7))\n",
        "ax.hist(a, bins = [0, 25, 50, 75, 100])\n",
        " \n",
        "plt.show()"
      ]
    },
    {
      "cell_type": "markdown",
      "source": [
        ""
      ],
      "metadata": {
        "id": "cjdaNwPK8Prt"
      }
    }
  ],
  "metadata": {
    "colab": {
      "collapsed_sections": [],
      "name": "Data Analysis in Python.ipynb",
      "provenance": [],
      "authorship_tag": "ABX9TyNCSAcchxRlbd4+FZX2RZ/V",
      "include_colab_link": true
    },
    "kernelspec": {
      "display_name": "Python 3",
      "name": "python3"
    },
    "language_info": {
      "name": "python"
    }
  },
  "nbformat": 4,
  "nbformat_minor": 0
}